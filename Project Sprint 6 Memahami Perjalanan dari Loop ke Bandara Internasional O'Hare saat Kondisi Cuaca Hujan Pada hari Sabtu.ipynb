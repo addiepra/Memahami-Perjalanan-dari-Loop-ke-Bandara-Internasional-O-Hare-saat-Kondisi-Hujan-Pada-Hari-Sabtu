{
 "cells": [
  {
   "cell_type": "markdown",
   "metadata": {},
   "source": [
    "# Memahami Perjalanan dari Loop ke Bandara Internasional O'Hare saat Kondisi Cuaca Hujan Pada hari Sabtu"
   ]
  },
  {
   "cell_type": "markdown",
   "metadata": {},
   "source": [
    "## Pendahuluan\n",
    "Dalam project ini, kita akan melakukan analisis data eksploratif dan pengujian hipotesis menggunakan Python untuk memahami dan menguji perubahan dalam durasi perjalanan dari Loop ke Bandara Internasional O'Hare, khususnya pada hari Sabtu saat kondisi cuaca hujan. Dengan langkah-langkah yang terstruktur, kami akan mengeksplorasi data, merumuskan hipotesis, dan melakukan pengujian statistik untuk menentukan apakah perubahan yang signifikan terjadi, dan mengambil kesimpulan berdasarkan temuan kami. Proyek ini bertujuan untuk memahami pengaruh kondisi cuaca terhadap perjalanan menuju bandara dan dapat memberikan wawasan yang berharga bagi industri transportasi dan pengguna jasa transportasi.\n",
    "\n",
    "### Tujuan\n",
    "Project ini merupakan hasil dari SQL yang akan dianalisis menggunakan Python. Tujuan dari proyek ini adalah untuk memahami apakah terdapat perubahan signifikan dalam durasi perjalanan dari Loop ke Bandara Internasional O'Hare saat kondisi cuaca hujan pada hari Sabtu. Project ini bertujuan untuk menguji hipotesis mengenai pengaruh kondisi cuaca terhadap perjalanan ke bandara dan memberikan wawasan yang berguna dalam industri transportasi.\n",
    "\n",
    "### Tahapan\n",
    "1. Analisis data eksploratif (Python) dengan memuat dataset: `/datasets/project_sql_result_01.csv` dan `/datasets/project_sql_result_04.csv` \n",
    "   - Terdapat Sub tahapan antara lain:\n",
    "  \n",
    "         1  Mempelajari isi data.\n",
    "         2  Memastikan tipe datanya sudah benar.\n",
    "         3  Mengidentifikasi 10 wilayah teratas yang dijadikan sebagai titik pengantaran.\n",
    "         4  Membuat grafik: perusahaan taksi dan jumlah perjalanannya, 10 wilayah teratas berdasarkan jumlah pengantaran.\n",
    "         5  Menarik kesimpulan berdasarkan grafik yang sudah dibuat dan menjelaskan hasilnya.\n",
    "\n",
    "\n",
    "2. Menguji hipotesis (Python) dengan memuat dataset: `/datasets/project_sql_result_07.csv`"
   ]
  },
  {
   "cell_type": "markdown",
   "metadata": {},
   "source": [
    "\n",
    "---------------"
   ]
  },
  {
   "cell_type": "markdown",
   "metadata": {},
   "source": [
    "## Inisialisasi\n",
    "- Kita akan memuat library apa saja yang akan kita gunakan."
   ]
  },
  {
   "cell_type": "code",
   "execution_count": 27,
   "metadata": {},
   "outputs": [],
   "source": [
    "# list library yang digunakan\n",
    "from scipy import stats\n",
    "from scipy.stats import levene\n",
    "from datetime import datetime, timedelta\n",
    "import pandas as pd\n",
    "import matplotlib.pyplot as plt\n",
    "import seaborn as sns\n"
   ]
  },
  {
   "cell_type": "markdown",
   "metadata": {},
   "source": [
    "--------"
   ]
  },
  {
   "cell_type": "markdown",
   "metadata": {},
   "source": [
    "## Memuat Data\n",
    "- Memuat dataset yang akan kita kerjakan."
   ]
  },
  {
   "cell_type": "code",
   "execution_count": 3,
   "metadata": {},
   "outputs": [],
   "source": [
    "# Memuat dataset yang akan kita gunakan\n",
    "exploration1 = pd.read_csv('/datasets/project_sql_result_01.csv')\n",
    "exploration2 = pd.read_csv('/datasets/project_sql_result_04.csv')\n",
    "hypothesis = pd.read_csv('/datasets/project_sql_result_07.csv')\n"
   ]
  },
  {
   "cell_type": "markdown",
   "metadata": {},
   "source": [
    "---------"
   ]
  },
  {
   "cell_type": "markdown",
   "metadata": {},
   "source": [
    "## Analisis data eksploratif (khusus untuk dataset exploration)\n",
    "- Mari kita lihat isi dari data yang telah dimuat. Yaitu hanya variable exploration1 dan exploration2 yang akan kita gunakan."
   ]
  },
  {
   "cell_type": "markdown",
   "metadata": {},
   "source": [
    "### Mempelajari Isi Data (khusus untuk dataset exploration)\n",
    "- Mari kita tampilkan jumlah data yang dimiliki serta informasi yang akan kita tinjau."
   ]
  },
  {
   "cell_type": "code",
   "execution_count": 4,
   "metadata": {},
   "outputs": [
    {
     "name": "stdout",
     "output_type": "stream",
     "text": [
      "<class 'pandas.core.frame.DataFrame'>\n",
      "RangeIndex: 64 entries, 0 to 63\n",
      "Data columns (total 2 columns):\n",
      " #   Column        Non-Null Count  Dtype \n",
      "---  ------        --------------  ----- \n",
      " 0   company_name  64 non-null     object\n",
      " 1   trips_amount  64 non-null     int64 \n",
      "dtypes: int64(1), object(1)\n",
      "memory usage: 1.1+ KB\n"
     ]
    }
   ],
   "source": [
    "# Menampilkan informasi hasil sql 01\n",
    "exploration1.info()"
   ]
  },
  {
   "cell_type": "code",
   "execution_count": 5,
   "metadata": {},
   "outputs": [
    {
     "name": "stdout",
     "output_type": "stream",
     "text": [
      "<class 'pandas.core.frame.DataFrame'>\n",
      "RangeIndex: 94 entries, 0 to 93\n",
      "Data columns (total 2 columns):\n",
      " #   Column                 Non-Null Count  Dtype  \n",
      "---  ------                 --------------  -----  \n",
      " 0   dropoff_location_name  94 non-null     object \n",
      " 1   average_trips          94 non-null     float64\n",
      "dtypes: float64(1), object(1)\n",
      "memory usage: 1.6+ KB\n"
     ]
    }
   ],
   "source": [
    "# Menampilkan informasi hasil sql 04\n",
    "exploration2.info()"
   ]
  },
  {
   "cell_type": "markdown",
   "metadata": {},
   "source": [
    "- <font color='green'>Temuan</font>\n",
    "\n",
    "Tidak ada nilai yang hilang dari informasi yang tersedia."
   ]
  },
  {
   "cell_type": "code",
   "execution_count": 6,
   "metadata": {},
   "outputs": [
    {
     "data": {
      "text/html": [
       "<div>\n",
       "<style scoped>\n",
       "    .dataframe tbody tr th:only-of-type {\n",
       "        vertical-align: middle;\n",
       "    }\n",
       "\n",
       "    .dataframe tbody tr th {\n",
       "        vertical-align: top;\n",
       "    }\n",
       "\n",
       "    .dataframe thead th {\n",
       "        text-align: right;\n",
       "    }\n",
       "</style>\n",
       "<table border=\"1\" class=\"dataframe\">\n",
       "  <thead>\n",
       "    <tr style=\"text-align: right;\">\n",
       "      <th></th>\n",
       "      <th>company_name</th>\n",
       "      <th>trips_amount</th>\n",
       "    </tr>\n",
       "  </thead>\n",
       "  <tbody>\n",
       "    <tr>\n",
       "      <th>0</th>\n",
       "      <td>Flash Cab</td>\n",
       "      <td>19558</td>\n",
       "    </tr>\n",
       "    <tr>\n",
       "      <th>1</th>\n",
       "      <td>Taxi Affiliation Services</td>\n",
       "      <td>11422</td>\n",
       "    </tr>\n",
       "    <tr>\n",
       "      <th>2</th>\n",
       "      <td>Medallion Leasing</td>\n",
       "      <td>10367</td>\n",
       "    </tr>\n",
       "    <tr>\n",
       "      <th>3</th>\n",
       "      <td>Yellow Cab</td>\n",
       "      <td>9888</td>\n",
       "    </tr>\n",
       "    <tr>\n",
       "      <th>4</th>\n",
       "      <td>Taxi Affiliation Service Yellow</td>\n",
       "      <td>9299</td>\n",
       "    </tr>\n",
       "  </tbody>\n",
       "</table>\n",
       "</div>"
      ],
      "text/plain": [
       "                      company_name  trips_amount\n",
       "0                        Flash Cab         19558\n",
       "1        Taxi Affiliation Services         11422\n",
       "2                Medallion Leasing         10367\n",
       "3                       Yellow Cab          9888\n",
       "4  Taxi Affiliation Service Yellow          9299"
      ]
     },
     "execution_count": 6,
     "metadata": {},
     "output_type": "execute_result"
    }
   ],
   "source": [
    "# Menampilkan data hasil sql 01\n",
    "exploration1.head()"
   ]
  },
  {
   "cell_type": "code",
   "execution_count": 7,
   "metadata": {},
   "outputs": [
    {
     "data": {
      "text/html": [
       "<div>\n",
       "<style scoped>\n",
       "    .dataframe tbody tr th:only-of-type {\n",
       "        vertical-align: middle;\n",
       "    }\n",
       "\n",
       "    .dataframe tbody tr th {\n",
       "        vertical-align: top;\n",
       "    }\n",
       "\n",
       "    .dataframe thead th {\n",
       "        text-align: right;\n",
       "    }\n",
       "</style>\n",
       "<table border=\"1\" class=\"dataframe\">\n",
       "  <thead>\n",
       "    <tr style=\"text-align: right;\">\n",
       "      <th></th>\n",
       "      <th>dropoff_location_name</th>\n",
       "      <th>average_trips</th>\n",
       "    </tr>\n",
       "  </thead>\n",
       "  <tbody>\n",
       "    <tr>\n",
       "      <th>0</th>\n",
       "      <td>Loop</td>\n",
       "      <td>10727.466667</td>\n",
       "    </tr>\n",
       "    <tr>\n",
       "      <th>1</th>\n",
       "      <td>River North</td>\n",
       "      <td>9523.666667</td>\n",
       "    </tr>\n",
       "    <tr>\n",
       "      <th>2</th>\n",
       "      <td>Streeterville</td>\n",
       "      <td>6664.666667</td>\n",
       "    </tr>\n",
       "    <tr>\n",
       "      <th>3</th>\n",
       "      <td>West Loop</td>\n",
       "      <td>5163.666667</td>\n",
       "    </tr>\n",
       "    <tr>\n",
       "      <th>4</th>\n",
       "      <td>O'Hare</td>\n",
       "      <td>2546.900000</td>\n",
       "    </tr>\n",
       "  </tbody>\n",
       "</table>\n",
       "</div>"
      ],
      "text/plain": [
       "  dropoff_location_name  average_trips\n",
       "0                  Loop   10727.466667\n",
       "1           River North    9523.666667\n",
       "2         Streeterville    6664.666667\n",
       "3             West Loop    5163.666667\n",
       "4                O'Hare    2546.900000"
      ]
     },
     "execution_count": 7,
     "metadata": {},
     "output_type": "execute_result"
    }
   ],
   "source": [
    "# Memuat menampilkan data hasil sql 04\n",
    "exploration2.head()"
   ]
  },
  {
   "cell_type": "markdown",
   "metadata": {},
   "source": [
    "- <font color='green'>Kesimpulan Sementara</font>\n",
    "\n",
    "Untuk saat ini tidak ditemukan nilai yang kosong. Seluruh data benar-benar utuh."
   ]
  },
  {
   "cell_type": "markdown",
   "metadata": {},
   "source": [
    "----------"
   ]
  },
  {
   "cell_type": "markdown",
   "metadata": {},
   "source": [
    "### Memastikan tipe datanya sudah benar (khusus untuk data exploration)\n",
    "- Mari kita periksa kembali tipe data yang ada."
   ]
  },
  {
   "cell_type": "code",
   "execution_count": 8,
   "metadata": {},
   "outputs": [
    {
     "name": "stdout",
     "output_type": "stream",
     "text": [
      "<class 'pandas.core.frame.DataFrame'>\n",
      "RangeIndex: 64 entries, 0 to 63\n",
      "Data columns (total 2 columns):\n",
      " #   Column        Non-Null Count  Dtype \n",
      "---  ------        --------------  ----- \n",
      " 0   company_name  64 non-null     object\n",
      " 1   trips_amount  64 non-null     int64 \n",
      "dtypes: int64(1), object(1)\n",
      "memory usage: 1.1+ KB\n"
     ]
    }
   ],
   "source": [
    "# Menampilkan informasi hasil sql 01\n",
    "exploration1.info()"
   ]
  },
  {
   "cell_type": "code",
   "execution_count": 9,
   "metadata": {},
   "outputs": [
    {
     "name": "stdout",
     "output_type": "stream",
     "text": [
      "<class 'pandas.core.frame.DataFrame'>\n",
      "RangeIndex: 94 entries, 0 to 93\n",
      "Data columns (total 2 columns):\n",
      " #   Column                 Non-Null Count  Dtype  \n",
      "---  ------                 --------------  -----  \n",
      " 0   dropoff_location_name  94 non-null     object \n",
      " 1   average_trips          94 non-null     float64\n",
      "dtypes: float64(1), object(1)\n",
      "memory usage: 1.6+ KB\n"
     ]
    }
   ],
   "source": [
    "# Menampilkan informasi hasil sql 04\n",
    "exploration2.info()"
   ]
  },
  {
   "cell_type": "markdown",
   "metadata": {},
   "source": [
    "- <font color='green'>Kesimpulan Sementara</font>\n",
    "\n",
    "Tipe data bisa saja sudah sesuai. Kita harus analisa lebih lanjut."
   ]
  },
  {
   "cell_type": "markdown",
   "metadata": {},
   "source": [
    "------------"
   ]
  },
  {
   "cell_type": "markdown",
   "metadata": {},
   "source": [
    "### Mengidentifikasi 10 Wilayah Teratas yang Dijadikan Sebagai Titik Pengantaran (khusus untuk data exploration)\n",
    "\n",
    "- Kita akan identifikasikan 10 wilayah dengan dataset yang kita tentukan yang bervariable exploration1 dan exploration2."
   ]
  },
  {
   "cell_type": "markdown",
   "metadata": {},
   "source": [
    "#### 10 Wilayah Teratas Untuk DataFrame exploration1\n",
    "\n",
    "- Kita akan menggunakan dataset pertama yaitu exploration1."
   ]
  },
  {
   "cell_type": "code",
   "execution_count": 10,
   "metadata": {},
   "outputs": [
    {
     "data": {
      "text/html": [
       "<div>\n",
       "<style scoped>\n",
       "    .dataframe tbody tr th:only-of-type {\n",
       "        vertical-align: middle;\n",
       "    }\n",
       "\n",
       "    .dataframe tbody tr th {\n",
       "        vertical-align: top;\n",
       "    }\n",
       "\n",
       "    .dataframe thead th {\n",
       "        text-align: right;\n",
       "    }\n",
       "</style>\n",
       "<table border=\"1\" class=\"dataframe\">\n",
       "  <thead>\n",
       "    <tr style=\"text-align: right;\">\n",
       "      <th></th>\n",
       "      <th>company_name</th>\n",
       "      <th>trips_amount</th>\n",
       "    </tr>\n",
       "  </thead>\n",
       "  <tbody>\n",
       "    <tr>\n",
       "      <th>0</th>\n",
       "      <td>Flash Cab</td>\n",
       "      <td>19558</td>\n",
       "    </tr>\n",
       "    <tr>\n",
       "      <th>1</th>\n",
       "      <td>Taxi Affiliation Services</td>\n",
       "      <td>11422</td>\n",
       "    </tr>\n",
       "    <tr>\n",
       "      <th>2</th>\n",
       "      <td>Medallion Leasing</td>\n",
       "      <td>10367</td>\n",
       "    </tr>\n",
       "    <tr>\n",
       "      <th>3</th>\n",
       "      <td>Yellow Cab</td>\n",
       "      <td>9888</td>\n",
       "    </tr>\n",
       "    <tr>\n",
       "      <th>4</th>\n",
       "      <td>Taxi Affiliation Service Yellow</td>\n",
       "      <td>9299</td>\n",
       "    </tr>\n",
       "    <tr>\n",
       "      <th>5</th>\n",
       "      <td>Chicago Carriage Cab Corp</td>\n",
       "      <td>9181</td>\n",
       "    </tr>\n",
       "    <tr>\n",
       "      <th>6</th>\n",
       "      <td>City Service</td>\n",
       "      <td>8448</td>\n",
       "    </tr>\n",
       "    <tr>\n",
       "      <th>7</th>\n",
       "      <td>Sun Taxi</td>\n",
       "      <td>7701</td>\n",
       "    </tr>\n",
       "    <tr>\n",
       "      <th>8</th>\n",
       "      <td>Star North Management LLC</td>\n",
       "      <td>7455</td>\n",
       "    </tr>\n",
       "    <tr>\n",
       "      <th>9</th>\n",
       "      <td>Blue Ribbon Taxi Association Inc.</td>\n",
       "      <td>5953</td>\n",
       "    </tr>\n",
       "  </tbody>\n",
       "</table>\n",
       "</div>"
      ],
      "text/plain": [
       "                        company_name  trips_amount\n",
       "0                          Flash Cab         19558\n",
       "1          Taxi Affiliation Services         11422\n",
       "2                  Medallion Leasing         10367\n",
       "3                         Yellow Cab          9888\n",
       "4    Taxi Affiliation Service Yellow          9299\n",
       "5          Chicago Carriage Cab Corp          9181\n",
       "6                       City Service          8448\n",
       "7                           Sun Taxi          7701\n",
       "8          Star North Management LLC          7455\n",
       "9  Blue Ribbon Taxi Association Inc.          5953"
      ]
     },
     "execution_count": 10,
     "metadata": {},
     "output_type": "execute_result"
    }
   ],
   "source": [
    "# preview data exploration1\n",
    "exploration1.head(10)"
   ]
  },
  {
   "cell_type": "code",
   "execution_count": 11,
   "metadata": {},
   "outputs": [
    {
     "data": {
      "image/png": "[encoded data removed]",
      "text/plain": [
       "<Figure size 864x432 with 1 Axes>"
      ]
     },
     "metadata": {},
     "output_type": "display_data"
    }
   ],
   "source": [
    "# Pilih 10 perusahaan taksi teratas\n",
    "top_10_companies = exploration1.head(10)\n",
    "\n",
    "# Atur gaya plot dengan Seaborn\n",
    "sns.set(style=\"whitegrid\")\n",
    "\n",
    "# Membuat grafik batang dengan palet \"viridis\" dari Seaborn\n",
    "plt.figure(figsize=(12, 6))\n",
    "sns.barplot(x='trips_amount', y='company_name', data=top_10_companies, palette='viridis')\n",
    "plt.title(\"Jumlah Perjalanan per Perusahaan Taksi (10 Teratas)\")\n",
    "plt.xlabel('Jumlah Perjalanan (Pada tanggal 15-16 November 2017)')\n",
    "plt.ylabel('Perusahaan Taksi')\n",
    "plt.show()"
   ]
  },
  {
   "cell_type": "markdown",
   "metadata": {},
   "source": [
    "- <font color='green'>Kesimpulan Sementara</font>\n",
    "\n",
    "Jumlah Perjalanan pada tanggal 15-16 November 2017 di 10 teratas adalah:\n",
    "\n",
    "1. Flash Cab\n",
    "2. Taxi Affiliation Services\n",
    "3. Medallion Leasing\n",
    "4. Yellow Cab\n",
    "5. Taxi Affiliation Service Yellow\n",
    "6. Chicago Carriage Cab Corp\n",
    "7. City Service\n",
    "8. Sun Taxi\n",
    "9. Star North Management LLC\n",
    "10. Blue Ribbon Taxi Association Inc.\n",
    "    "
   ]
  },
  {
   "cell_type": "markdown",
   "metadata": {},
   "source": [
    "------------"
   ]
  },
  {
   "cell_type": "markdown",
   "metadata": {},
   "source": [
    "####  10 Wilayah Teratas Untuk DataFrame exploration2"
   ]
  },
  {
   "cell_type": "code",
   "execution_count": 12,
   "metadata": {},
   "outputs": [
    {
     "data": {
      "text/html": [
       "<div>\n",
       "<style scoped>\n",
       "    .dataframe tbody tr th:only-of-type {\n",
       "        vertical-align: middle;\n",
       "    }\n",
       "\n",
       "    .dataframe tbody tr th {\n",
       "        vertical-align: top;\n",
       "    }\n",
       "\n",
       "    .dataframe thead th {\n",
       "        text-align: right;\n",
       "    }\n",
       "</style>\n",
       "<table border=\"1\" class=\"dataframe\">\n",
       "  <thead>\n",
       "    <tr style=\"text-align: right;\">\n",
       "      <th></th>\n",
       "      <th>dropoff_location_name</th>\n",
       "      <th>average_trips</th>\n",
       "    </tr>\n",
       "  </thead>\n",
       "  <tbody>\n",
       "    <tr>\n",
       "      <th>0</th>\n",
       "      <td>Loop</td>\n",
       "      <td>10727.466667</td>\n",
       "    </tr>\n",
       "    <tr>\n",
       "      <th>1</th>\n",
       "      <td>River North</td>\n",
       "      <td>9523.666667</td>\n",
       "    </tr>\n",
       "    <tr>\n",
       "      <th>2</th>\n",
       "      <td>Streeterville</td>\n",
       "      <td>6664.666667</td>\n",
       "    </tr>\n",
       "    <tr>\n",
       "      <th>3</th>\n",
       "      <td>West Loop</td>\n",
       "      <td>5163.666667</td>\n",
       "    </tr>\n",
       "    <tr>\n",
       "      <th>4</th>\n",
       "      <td>O'Hare</td>\n",
       "      <td>2546.900000</td>\n",
       "    </tr>\n",
       "    <tr>\n",
       "      <th>5</th>\n",
       "      <td>Lake View</td>\n",
       "      <td>2420.966667</td>\n",
       "    </tr>\n",
       "    <tr>\n",
       "      <th>6</th>\n",
       "      <td>Grant Park</td>\n",
       "      <td>2068.533333</td>\n",
       "    </tr>\n",
       "    <tr>\n",
       "      <th>7</th>\n",
       "      <td>Museum Campus</td>\n",
       "      <td>1510.000000</td>\n",
       "    </tr>\n",
       "    <tr>\n",
       "      <th>8</th>\n",
       "      <td>Gold Coast</td>\n",
       "      <td>1364.233333</td>\n",
       "    </tr>\n",
       "    <tr>\n",
       "      <th>9</th>\n",
       "      <td>Sheffield &amp; DePaul</td>\n",
       "      <td>1259.766667</td>\n",
       "    </tr>\n",
       "  </tbody>\n",
       "</table>\n",
       "</div>"
      ],
      "text/plain": [
       "  dropoff_location_name  average_trips\n",
       "0                  Loop   10727.466667\n",
       "1           River North    9523.666667\n",
       "2         Streeterville    6664.666667\n",
       "3             West Loop    5163.666667\n",
       "4                O'Hare    2546.900000\n",
       "5             Lake View    2420.966667\n",
       "6            Grant Park    2068.533333\n",
       "7         Museum Campus    1510.000000\n",
       "8            Gold Coast    1364.233333\n",
       "9    Sheffield & DePaul    1259.766667"
      ]
     },
     "execution_count": 12,
     "metadata": {},
     "output_type": "execute_result"
    }
   ],
   "source": [
    "# preview data exploration2\n",
    "exploration2.head(10)"
   ]
  },
  {
   "cell_type": "code",
   "execution_count": 13,
   "metadata": {},
   "outputs": [
    {
     "data": {
      "image/png": "[encoded data removed]",
      "text/plain": [
       "<Figure size 864x432 with 1 Axes>"
      ]
     },
     "metadata": {},
     "output_type": "display_data"
    }
   ],
   "source": [
    "# Pilih 10 wilayah teratas\n",
    "top_10_locations = exploration2.head(10)\n",
    "\n",
    "# Atur gaya plot dengan Seaborn\n",
    "sns.set(style=\"whitegrid\")\n",
    "\n",
    "# Membuat grafik batang dengan palet \"viridis\" dari Seaborn\n",
    "plt.figure(figsize=(12, 6))\n",
    "sns.barplot(x='average_trips', y='dropoff_location_name', data=top_10_locations, palette='viridis')\n",
    "plt.title(\"Jumlah Perjalanan per Wilayah Pengantaran (10 Teratas)\")\n",
    "plt.xlabel('Rata-Rata Perjalanan yang Berakhir di Setiap Wilayah pada Bulan November 2017')\n",
    "plt.ylabel('Wilayah Pengantaran')\n",
    "plt.show()"
   ]
  },
  {
   "cell_type": "markdown",
   "metadata": {},
   "source": [
    "- <font color='green'>Kesimpulan Sementara</font>\n",
    "\n",
    "Rata-Rata Perjalanan yang Berakhir di Setiap Wilayah pada Bulan November 2017 adalah:\n",
    "\n",
    "1. Loop\n",
    "2. River North\n",
    "3. Streeterville\n",
    "4. West Loop\n",
    "5. O'Hare\n",
    "6. Lake View\n",
    "7. Grant Park\n",
    "8. Museum Campus\n",
    "9. Gold Coast\n",
    "10. Sheffield & Depaul\n",
    "    "
   ]
  },
  {
   "cell_type": "markdown",
   "metadata": {},
   "source": [
    "----------------"
   ]
  },
  {
   "cell_type": "markdown",
   "metadata": {},
   "source": [
    "## Menguji Hipotesis (khusus untuk data hypothesis)\n",
    "- `/datasets/project_sql_result_07.csv` merupakan hasil dari kueri terakhir yang bervariable yaitu hypothesis . File ini memuat data perjalanan dari Loop ke Bandara Internasional O'Hare. "
   ]
  },
  {
   "cell_type": "markdown",
   "metadata": {},
   "source": [
    "### Mempelajari Isi Data (khusus untuk data hypothesis)\n",
    "- Mari kita periksa informasi dan muatan data pada dataset tersebut."
   ]
  },
  {
   "cell_type": "code",
   "execution_count": 14,
   "metadata": {},
   "outputs": [
    {
     "data": {
      "text/html": [
       "<div>\n",
       "<style scoped>\n",
       "    .dataframe tbody tr th:only-of-type {\n",
       "        vertical-align: middle;\n",
       "    }\n",
       "\n",
       "    .dataframe tbody tr th {\n",
       "        vertical-align: top;\n",
       "    }\n",
       "\n",
       "    .dataframe thead th {\n",
       "        text-align: right;\n",
       "    }\n",
       "</style>\n",
       "<table border=\"1\" class=\"dataframe\">\n",
       "  <thead>\n",
       "    <tr style=\"text-align: right;\">\n",
       "      <th></th>\n",
       "      <th>start_ts</th>\n",
       "      <th>weather_conditions</th>\n",
       "      <th>duration_seconds</th>\n",
       "    </tr>\n",
       "  </thead>\n",
       "  <tbody>\n",
       "    <tr>\n",
       "      <th>0</th>\n",
       "      <td>2017-11-25 16:00:00</td>\n",
       "      <td>Good</td>\n",
       "      <td>2410.0</td>\n",
       "    </tr>\n",
       "    <tr>\n",
       "      <th>1</th>\n",
       "      <td>2017-11-25 14:00:00</td>\n",
       "      <td>Good</td>\n",
       "      <td>1920.0</td>\n",
       "    </tr>\n",
       "    <tr>\n",
       "      <th>2</th>\n",
       "      <td>2017-11-25 12:00:00</td>\n",
       "      <td>Good</td>\n",
       "      <td>1543.0</td>\n",
       "    </tr>\n",
       "    <tr>\n",
       "      <th>3</th>\n",
       "      <td>2017-11-04 10:00:00</td>\n",
       "      <td>Good</td>\n",
       "      <td>2512.0</td>\n",
       "    </tr>\n",
       "    <tr>\n",
       "      <th>4</th>\n",
       "      <td>2017-11-11 07:00:00</td>\n",
       "      <td>Good</td>\n",
       "      <td>1440.0</td>\n",
       "    </tr>\n",
       "  </tbody>\n",
       "</table>\n",
       "</div>"
      ],
      "text/plain": [
       "              start_ts weather_conditions  duration_seconds\n",
       "0  2017-11-25 16:00:00               Good            2410.0\n",
       "1  2017-11-25 14:00:00               Good            1920.0\n",
       "2  2017-11-25 12:00:00               Good            1543.0\n",
       "3  2017-11-04 10:00:00               Good            2512.0\n",
       "4  2017-11-11 07:00:00               Good            1440.0"
      ]
     },
     "execution_count": 14,
     "metadata": {},
     "output_type": "execute_result"
    }
   ],
   "source": [
    "# Menampilkan isi dataset sql result 07\n",
    "hypothesis.head()"
   ]
  },
  {
   "cell_type": "markdown",
   "metadata": {},
   "source": [
    " - <font color='green'>Temuan</font>\n",
    "\n",
    "Kita mungkin akan mengubah dengan tipe data yang sesuai, melihat isi dataset tersebut. Di dalam dataset ini deskripsi tersebut untuk hypothesis yaitu:\n",
    "\n",
    "**start_ts -- tanggal dan waktu penjemputan**\n",
    "\n",
    "**weather_conditions -- kondisi cuaca saat perjalanan dimulai**\n",
    "\n",
    "**duration_seconds -- durasi perjalanan dalam satuan detik**"
   ]
  },
  {
   "cell_type": "markdown",
   "metadata": {},
   "source": [
    "### Memastikan Tipe Data Sudah Benar (khusus untuk data hypothesis)"
   ]
  },
  {
   "cell_type": "code",
   "execution_count": 15,
   "metadata": {},
   "outputs": [
    {
     "name": "stdout",
     "output_type": "stream",
     "text": [
      "<class 'pandas.core.frame.DataFrame'>\n",
      "RangeIndex: 1068 entries, 0 to 1067\n",
      "Data columns (total 3 columns):\n",
      " #   Column              Non-Null Count  Dtype  \n",
      "---  ------              --------------  -----  \n",
      " 0   start_ts            1068 non-null   object \n",
      " 1   weather_conditions  1068 non-null   object \n",
      " 2   duration_seconds    1068 non-null   float64\n",
      "dtypes: float64(1), object(2)\n",
      "memory usage: 25.2+ KB\n"
     ]
    }
   ],
   "source": [
    "# Menampilkan informasi dataset sql result 07\n",
    "hypothesis.info()"
   ]
  },
  {
   "cell_type": "markdown",
   "metadata": {},
   "source": [
    "- <font color='green'>Temuan</font>\n",
    "\n",
    "Kita akan mengubah tipe data untuk kolom start_ts dan duration_seconds sebagai tipe data yang sesuai. Selain itu tidak ada data yang hilang untuk dataset tersebut."
   ]
  },
  {
   "cell_type": "code",
   "execution_count": 16,
   "metadata": {},
   "outputs": [],
   "source": [
    "# Mengubah tipe data start_ts ke datetime\n",
    "hypothesis['start_ts'] = pd.to_datetime(hypothesis['start_ts'])"
   ]
  },
  {
   "cell_type": "code",
   "execution_count": 17,
   "metadata": {},
   "outputs": [],
   "source": [
    "# Mengubah tipe data duration_seconds menjadi int\n",
    "hypothesis['duration_seconds'] = hypothesis['duration_seconds'].astype('int')"
   ]
  },
  {
   "cell_type": "code",
   "execution_count": 18,
   "metadata": {},
   "outputs": [
    {
     "name": "stdout",
     "output_type": "stream",
     "text": [
      "<class 'pandas.core.frame.DataFrame'>\n",
      "RangeIndex: 1068 entries, 0 to 1067\n",
      "Data columns (total 3 columns):\n",
      " #   Column              Non-Null Count  Dtype         \n",
      "---  ------              --------------  -----         \n",
      " 0   start_ts            1068 non-null   datetime64[ns]\n",
      " 1   weather_conditions  1068 non-null   object        \n",
      " 2   duration_seconds    1068 non-null   int64         \n",
      "dtypes: datetime64[ns](1), int64(1), object(1)\n",
      "memory usage: 25.2+ KB\n"
     ]
    }
   ],
   "source": [
    "# Menampilkan informasi dataset sql result 07 dengan data yang telah diubah\n",
    "hypothesis.info()"
   ]
  },
  {
   "cell_type": "code",
   "execution_count": 19,
   "metadata": {},
   "outputs": [
    {
     "data": {
      "text/html": [
       "<div>\n",
       "<style scoped>\n",
       "    .dataframe tbody tr th:only-of-type {\n",
       "        vertical-align: middle;\n",
       "    }\n",
       "\n",
       "    .dataframe tbody tr th {\n",
       "        vertical-align: top;\n",
       "    }\n",
       "\n",
       "    .dataframe thead th {\n",
       "        text-align: right;\n",
       "    }\n",
       "</style>\n",
       "<table border=\"1\" class=\"dataframe\">\n",
       "  <thead>\n",
       "    <tr style=\"text-align: right;\">\n",
       "      <th></th>\n",
       "      <th>start_ts</th>\n",
       "      <th>weather_conditions</th>\n",
       "      <th>duration_seconds</th>\n",
       "    </tr>\n",
       "  </thead>\n",
       "  <tbody>\n",
       "    <tr>\n",
       "      <th>0</th>\n",
       "      <td>2017-11-25 16:00:00</td>\n",
       "      <td>Good</td>\n",
       "      <td>2410</td>\n",
       "    </tr>\n",
       "    <tr>\n",
       "      <th>1</th>\n",
       "      <td>2017-11-25 14:00:00</td>\n",
       "      <td>Good</td>\n",
       "      <td>1920</td>\n",
       "    </tr>\n",
       "    <tr>\n",
       "      <th>2</th>\n",
       "      <td>2017-11-25 12:00:00</td>\n",
       "      <td>Good</td>\n",
       "      <td>1543</td>\n",
       "    </tr>\n",
       "    <tr>\n",
       "      <th>3</th>\n",
       "      <td>2017-11-04 10:00:00</td>\n",
       "      <td>Good</td>\n",
       "      <td>2512</td>\n",
       "    </tr>\n",
       "    <tr>\n",
       "      <th>4</th>\n",
       "      <td>2017-11-11 07:00:00</td>\n",
       "      <td>Good</td>\n",
       "      <td>1440</td>\n",
       "    </tr>\n",
       "    <tr>\n",
       "      <th>5</th>\n",
       "      <td>2017-11-11 04:00:00</td>\n",
       "      <td>Good</td>\n",
       "      <td>1320</td>\n",
       "    </tr>\n",
       "    <tr>\n",
       "      <th>6</th>\n",
       "      <td>2017-11-04 16:00:00</td>\n",
       "      <td>Bad</td>\n",
       "      <td>2969</td>\n",
       "    </tr>\n",
       "    <tr>\n",
       "      <th>7</th>\n",
       "      <td>2017-11-18 11:00:00</td>\n",
       "      <td>Good</td>\n",
       "      <td>2280</td>\n",
       "    </tr>\n",
       "    <tr>\n",
       "      <th>8</th>\n",
       "      <td>2017-11-11 14:00:00</td>\n",
       "      <td>Good</td>\n",
       "      <td>2460</td>\n",
       "    </tr>\n",
       "    <tr>\n",
       "      <th>9</th>\n",
       "      <td>2017-11-11 12:00:00</td>\n",
       "      <td>Good</td>\n",
       "      <td>2040</td>\n",
       "    </tr>\n",
       "  </tbody>\n",
       "</table>\n",
       "</div>"
      ],
      "text/plain": [
       "             start_ts weather_conditions  duration_seconds\n",
       "0 2017-11-25 16:00:00               Good              2410\n",
       "1 2017-11-25 14:00:00               Good              1920\n",
       "2 2017-11-25 12:00:00               Good              1543\n",
       "3 2017-11-04 10:00:00               Good              2512\n",
       "4 2017-11-11 07:00:00               Good              1440\n",
       "5 2017-11-11 04:00:00               Good              1320\n",
       "6 2017-11-04 16:00:00                Bad              2969\n",
       "7 2017-11-18 11:00:00               Good              2280\n",
       "8 2017-11-11 14:00:00               Good              2460\n",
       "9 2017-11-11 12:00:00               Good              2040"
      ]
     },
     "execution_count": 19,
     "metadata": {},
     "output_type": "execute_result"
    }
   ],
   "source": [
    "# Hasil informasi\n",
    "hypothesis.head(10)"
   ]
  },
  {
   "cell_type": "markdown",
   "metadata": {},
   "source": [
    "- Mari kita uji dengan data yang sudah kita perbaiki."
   ]
  },
  {
   "cell_type": "markdown",
   "metadata": {},
   "source": [
    "### Menguji H0 dan H1 untuk Dataset Hypothesis\n",
    "\n",
    "Uji hipotesis berikut:\n",
    "\"Durasi rata-rata perjalanan dari Loop ke Bandara Internasional O'Hare berubah saat hujan di hari Sabtu.\" \n",
    "\n",
    "\n",
    "Yang berarti:\n",
    "\n",
    "<font color = 'green'>Alpha yang ditentukan yaitu 5% atau 0.05</font>\n",
    "\n",
    "<font color='blue'>H0 = \"Durasi rata-rata perjalanan dari Loop ke Bandara Internasional O'Hare TIDAK SAMA saat hujan di hari Sabtu.\"</font>\n",
    "\n",
    "<font color='red'>H1 = \"Durasi rata-rata perjalanan dari Loop ke Bandara Internasional O'Hare SAMA saat hujan di hari Sabtu.\"</font>"
   ]
  },
  {
   "cell_type": "code",
   "execution_count": 20,
   "metadata": {},
   "outputs": [
    {
     "data": {
      "text/html": [
       "<div>\n",
       "<style scoped>\n",
       "    .dataframe tbody tr th:only-of-type {\n",
       "        vertical-align: middle;\n",
       "    }\n",
       "\n",
       "    .dataframe tbody tr th {\n",
       "        vertical-align: top;\n",
       "    }\n",
       "\n",
       "    .dataframe thead th {\n",
       "        text-align: right;\n",
       "    }\n",
       "</style>\n",
       "<table border=\"1\" class=\"dataframe\">\n",
       "  <thead>\n",
       "    <tr style=\"text-align: right;\">\n",
       "      <th></th>\n",
       "      <th>start_ts</th>\n",
       "      <th>weather_conditions</th>\n",
       "      <th>duration_seconds</th>\n",
       "    </tr>\n",
       "  </thead>\n",
       "  <tbody>\n",
       "    <tr>\n",
       "      <th>0</th>\n",
       "      <td>2017-11-25 16:00:00</td>\n",
       "      <td>Good</td>\n",
       "      <td>2410</td>\n",
       "    </tr>\n",
       "    <tr>\n",
       "      <th>1</th>\n",
       "      <td>2017-11-25 14:00:00</td>\n",
       "      <td>Good</td>\n",
       "      <td>1920</td>\n",
       "    </tr>\n",
       "    <tr>\n",
       "      <th>2</th>\n",
       "      <td>2017-11-25 12:00:00</td>\n",
       "      <td>Good</td>\n",
       "      <td>1543</td>\n",
       "    </tr>\n",
       "    <tr>\n",
       "      <th>3</th>\n",
       "      <td>2017-11-04 10:00:00</td>\n",
       "      <td>Good</td>\n",
       "      <td>2512</td>\n",
       "    </tr>\n",
       "    <tr>\n",
       "      <th>4</th>\n",
       "      <td>2017-11-11 07:00:00</td>\n",
       "      <td>Good</td>\n",
       "      <td>1440</td>\n",
       "    </tr>\n",
       "    <tr>\n",
       "      <th>5</th>\n",
       "      <td>2017-11-11 04:00:00</td>\n",
       "      <td>Good</td>\n",
       "      <td>1320</td>\n",
       "    </tr>\n",
       "    <tr>\n",
       "      <th>6</th>\n",
       "      <td>2017-11-04 16:00:00</td>\n",
       "      <td>Bad</td>\n",
       "      <td>2969</td>\n",
       "    </tr>\n",
       "    <tr>\n",
       "      <th>7</th>\n",
       "      <td>2017-11-18 11:00:00</td>\n",
       "      <td>Good</td>\n",
       "      <td>2280</td>\n",
       "    </tr>\n",
       "    <tr>\n",
       "      <th>8</th>\n",
       "      <td>2017-11-11 14:00:00</td>\n",
       "      <td>Good</td>\n",
       "      <td>2460</td>\n",
       "    </tr>\n",
       "    <tr>\n",
       "      <th>9</th>\n",
       "      <td>2017-11-11 12:00:00</td>\n",
       "      <td>Good</td>\n",
       "      <td>2040</td>\n",
       "    </tr>\n",
       "    <tr>\n",
       "      <th>10</th>\n",
       "      <td>2017-11-18 06:00:00</td>\n",
       "      <td>Good</td>\n",
       "      <td>1500</td>\n",
       "    </tr>\n",
       "    <tr>\n",
       "      <th>11</th>\n",
       "      <td>2017-11-04 11:00:00</td>\n",
       "      <td>Good</td>\n",
       "      <td>2040</td>\n",
       "    </tr>\n",
       "    <tr>\n",
       "      <th>12</th>\n",
       "      <td>2017-11-11 08:00:00</td>\n",
       "      <td>Good</td>\n",
       "      <td>1470</td>\n",
       "    </tr>\n",
       "    <tr>\n",
       "      <th>13</th>\n",
       "      <td>2017-11-04 08:00:00</td>\n",
       "      <td>Good</td>\n",
       "      <td>1546</td>\n",
       "    </tr>\n",
       "    <tr>\n",
       "      <th>14</th>\n",
       "      <td>2017-11-11 16:00:00</td>\n",
       "      <td>Good</td>\n",
       "      <td>2100</td>\n",
       "    </tr>\n",
       "    <tr>\n",
       "      <th>15</th>\n",
       "      <td>2017-11-25 13:00:00</td>\n",
       "      <td>Good</td>\n",
       "      <td>60</td>\n",
       "    </tr>\n",
       "    <tr>\n",
       "      <th>16</th>\n",
       "      <td>2017-11-04 12:00:00</td>\n",
       "      <td>Good</td>\n",
       "      <td>2640</td>\n",
       "    </tr>\n",
       "    <tr>\n",
       "      <th>17</th>\n",
       "      <td>2017-11-25 10:00:00</td>\n",
       "      <td>Good</td>\n",
       "      <td>1502</td>\n",
       "    </tr>\n",
       "    <tr>\n",
       "      <th>18</th>\n",
       "      <td>2017-11-11 12:00:00</td>\n",
       "      <td>Good</td>\n",
       "      <td>1915</td>\n",
       "    </tr>\n",
       "    <tr>\n",
       "      <th>19</th>\n",
       "      <td>2017-11-04 12:00:00</td>\n",
       "      <td>Good</td>\n",
       "      <td>2769</td>\n",
       "    </tr>\n",
       "    <tr>\n",
       "      <th>20</th>\n",
       "      <td>2017-11-11 13:00:00</td>\n",
       "      <td>Good</td>\n",
       "      <td>2250</td>\n",
       "    </tr>\n",
       "    <tr>\n",
       "      <th>21</th>\n",
       "      <td>2017-11-11 04:00:00</td>\n",
       "      <td>Good</td>\n",
       "      <td>1260</td>\n",
       "    </tr>\n",
       "    <tr>\n",
       "      <th>22</th>\n",
       "      <td>2017-11-18 14:00:00</td>\n",
       "      <td>Good</td>\n",
       "      <td>2826</td>\n",
       "    </tr>\n",
       "    <tr>\n",
       "      <th>23</th>\n",
       "      <td>2017-11-04 14:00:00</td>\n",
       "      <td>Good</td>\n",
       "      <td>3360</td>\n",
       "    </tr>\n",
       "    <tr>\n",
       "      <th>24</th>\n",
       "      <td>2017-11-04 14:00:00</td>\n",
       "      <td>Good</td>\n",
       "      <td>3180</td>\n",
       "    </tr>\n",
       "    <tr>\n",
       "      <th>25</th>\n",
       "      <td>2017-11-25 20:00:00</td>\n",
       "      <td>Good</td>\n",
       "      <td>2100</td>\n",
       "    </tr>\n",
       "    <tr>\n",
       "      <th>26</th>\n",
       "      <td>2017-11-04 10:00:00</td>\n",
       "      <td>Good</td>\n",
       "      <td>1800</td>\n",
       "    </tr>\n",
       "    <tr>\n",
       "      <th>27</th>\n",
       "      <td>2017-11-11 12:00:00</td>\n",
       "      <td>Good</td>\n",
       "      <td>2289</td>\n",
       "    </tr>\n",
       "    <tr>\n",
       "      <th>28</th>\n",
       "      <td>2017-11-04 08:00:00</td>\n",
       "      <td>Good</td>\n",
       "      <td>1494</td>\n",
       "    </tr>\n",
       "    <tr>\n",
       "      <th>29</th>\n",
       "      <td>2017-11-11 11:00:00</td>\n",
       "      <td>Good</td>\n",
       "      <td>1560</td>\n",
       "    </tr>\n",
       "    <tr>\n",
       "      <th>30</th>\n",
       "      <td>2017-11-18 12:00:00</td>\n",
       "      <td>Bad</td>\n",
       "      <td>1980</td>\n",
       "    </tr>\n",
       "    <tr>\n",
       "      <th>31</th>\n",
       "      <td>2017-11-11 13:00:00</td>\n",
       "      <td>Good</td>\n",
       "      <td>2115</td>\n",
       "    </tr>\n",
       "    <tr>\n",
       "      <th>32</th>\n",
       "      <td>2017-11-11 10:00:00</td>\n",
       "      <td>Good</td>\n",
       "      <td>1506</td>\n",
       "    </tr>\n",
       "    <tr>\n",
       "      <th>33</th>\n",
       "      <td>2017-11-04 12:00:00</td>\n",
       "      <td>Good</td>\n",
       "      <td>2580</td>\n",
       "    </tr>\n",
       "    <tr>\n",
       "      <th>34</th>\n",
       "      <td>2017-11-04 17:00:00</td>\n",
       "      <td>Bad</td>\n",
       "      <td>2460</td>\n",
       "    </tr>\n",
       "    <tr>\n",
       "      <th>35</th>\n",
       "      <td>2017-11-11 09:00:00</td>\n",
       "      <td>Good</td>\n",
       "      <td>1620</td>\n",
       "    </tr>\n",
       "    <tr>\n",
       "      <th>36</th>\n",
       "      <td>2017-11-04 06:00:00</td>\n",
       "      <td>Good</td>\n",
       "      <td>1163</td>\n",
       "    </tr>\n",
       "    <tr>\n",
       "      <th>37</th>\n",
       "      <td>2017-11-04 05:00:00</td>\n",
       "      <td>Good</td>\n",
       "      <td>1533</td>\n",
       "    </tr>\n",
       "    <tr>\n",
       "      <th>38</th>\n",
       "      <td>2017-11-11 04:00:00</td>\n",
       "      <td>Good</td>\n",
       "      <td>1477</td>\n",
       "    </tr>\n",
       "    <tr>\n",
       "      <th>39</th>\n",
       "      <td>2017-11-11 19:00:00</td>\n",
       "      <td>Good</td>\n",
       "      <td>1984</td>\n",
       "    </tr>\n",
       "    <tr>\n",
       "      <th>40</th>\n",
       "      <td>2017-11-04 13:00:00</td>\n",
       "      <td>Good</td>\n",
       "      <td>2940</td>\n",
       "    </tr>\n",
       "    <tr>\n",
       "      <th>41</th>\n",
       "      <td>2017-11-04 07:00:00</td>\n",
       "      <td>Good</td>\n",
       "      <td>1320</td>\n",
       "    </tr>\n",
       "    <tr>\n",
       "      <th>42</th>\n",
       "      <td>2017-11-04 06:00:00</td>\n",
       "      <td>Good</td>\n",
       "      <td>1440</td>\n",
       "    </tr>\n",
       "    <tr>\n",
       "      <th>43</th>\n",
       "      <td>2017-11-11 06:00:00</td>\n",
       "      <td>Good</td>\n",
       "      <td>1260</td>\n",
       "    </tr>\n",
       "    <tr>\n",
       "      <th>44</th>\n",
       "      <td>2017-11-11 08:00:00</td>\n",
       "      <td>Good</td>\n",
       "      <td>1560</td>\n",
       "    </tr>\n",
       "    <tr>\n",
       "      <th>45</th>\n",
       "      <td>2017-11-04 09:00:00</td>\n",
       "      <td>Good</td>\n",
       "      <td>1683</td>\n",
       "    </tr>\n",
       "    <tr>\n",
       "      <th>46</th>\n",
       "      <td>2017-11-11 05:00:00</td>\n",
       "      <td>Good</td>\n",
       "      <td>1343</td>\n",
       "    </tr>\n",
       "    <tr>\n",
       "      <th>47</th>\n",
       "      <td>2017-11-18 06:00:00</td>\n",
       "      <td>Good</td>\n",
       "      <td>1742</td>\n",
       "    </tr>\n",
       "    <tr>\n",
       "      <th>48</th>\n",
       "      <td>2017-11-04 09:00:00</td>\n",
       "      <td>Good</td>\n",
       "      <td>1560</td>\n",
       "    </tr>\n",
       "    <tr>\n",
       "      <th>49</th>\n",
       "      <td>2017-11-11 08:00:00</td>\n",
       "      <td>Good</td>\n",
       "      <td>1358</td>\n",
       "    </tr>\n",
       "  </tbody>\n",
       "</table>\n",
       "</div>"
      ],
      "text/plain": [
       "              start_ts weather_conditions  duration_seconds\n",
       "0  2017-11-25 16:00:00               Good              2410\n",
       "1  2017-11-25 14:00:00               Good              1920\n",
       "2  2017-11-25 12:00:00               Good              1543\n",
       "3  2017-11-04 10:00:00               Good              2512\n",
       "4  2017-11-11 07:00:00               Good              1440\n",
       "5  2017-11-11 04:00:00               Good              1320\n",
       "6  2017-11-04 16:00:00                Bad              2969\n",
       "7  2017-11-18 11:00:00               Good              2280\n",
       "8  2017-11-11 14:00:00               Good              2460\n",
       "9  2017-11-11 12:00:00               Good              2040\n",
       "10 2017-11-18 06:00:00               Good              1500\n",
       "11 2017-11-04 11:00:00               Good              2040\n",
       "12 2017-11-11 08:00:00               Good              1470\n",
       "13 2017-11-04 08:00:00               Good              1546\n",
       "14 2017-11-11 16:00:00               Good              2100\n",
       "15 2017-11-25 13:00:00               Good                60\n",
       "16 2017-11-04 12:00:00               Good              2640\n",
       "17 2017-11-25 10:00:00               Good              1502\n",
       "18 2017-11-11 12:00:00               Good              1915\n",
       "19 2017-11-04 12:00:00               Good              2769\n",
       "20 2017-11-11 13:00:00               Good              2250\n",
       "21 2017-11-11 04:00:00               Good              1260\n",
       "22 2017-11-18 14:00:00               Good              2826\n",
       "23 2017-11-04 14:00:00               Good              3360\n",
       "24 2017-11-04 14:00:00               Good              3180\n",
       "25 2017-11-25 20:00:00               Good              2100\n",
       "26 2017-11-04 10:00:00               Good              1800\n",
       "27 2017-11-11 12:00:00               Good              2289\n",
       "28 2017-11-04 08:00:00               Good              1494\n",
       "29 2017-11-11 11:00:00               Good              1560\n",
       "30 2017-11-18 12:00:00                Bad              1980\n",
       "31 2017-11-11 13:00:00               Good              2115\n",
       "32 2017-11-11 10:00:00               Good              1506\n",
       "33 2017-11-04 12:00:00               Good              2580\n",
       "34 2017-11-04 17:00:00                Bad              2460\n",
       "35 2017-11-11 09:00:00               Good              1620\n",
       "36 2017-11-04 06:00:00               Good              1163\n",
       "37 2017-11-04 05:00:00               Good              1533\n",
       "38 2017-11-11 04:00:00               Good              1477\n",
       "39 2017-11-11 19:00:00               Good              1984\n",
       "40 2017-11-04 13:00:00               Good              2940\n",
       "41 2017-11-04 07:00:00               Good              1320\n",
       "42 2017-11-04 06:00:00               Good              1440\n",
       "43 2017-11-11 06:00:00               Good              1260\n",
       "44 2017-11-11 08:00:00               Good              1560\n",
       "45 2017-11-04 09:00:00               Good              1683\n",
       "46 2017-11-11 05:00:00               Good              1343\n",
       "47 2017-11-18 06:00:00               Good              1742\n",
       "48 2017-11-04 09:00:00               Good              1560\n",
       "49 2017-11-11 08:00:00               Good              1358"
      ]
     },
     "execution_count": 20,
     "metadata": {},
     "output_type": "execute_result"
    }
   ],
   "source": [
    "# Preview dataset hypothesis\n",
    "hypothesis.head(50)\n"
   ]
  },
  {
   "cell_type": "code",
   "execution_count": 21,
   "metadata": {},
   "outputs": [
    {
     "data": {
      "text/html": [
       "<div>\n",
       "<style scoped>\n",
       "    .dataframe tbody tr th:only-of-type {\n",
       "        vertical-align: middle;\n",
       "    }\n",
       "\n",
       "    .dataframe tbody tr th {\n",
       "        vertical-align: top;\n",
       "    }\n",
       "\n",
       "    .dataframe thead th {\n",
       "        text-align: right;\n",
       "    }\n",
       "</style>\n",
       "<table border=\"1\" class=\"dataframe\">\n",
       "  <thead>\n",
       "    <tr style=\"text-align: right;\">\n",
       "      <th></th>\n",
       "      <th>weather_conditions</th>\n",
       "      <th>duration_seconds</th>\n",
       "    </tr>\n",
       "  </thead>\n",
       "  <tbody>\n",
       "    <tr>\n",
       "      <th>0</th>\n",
       "      <td>Bad</td>\n",
       "      <td>2427.205556</td>\n",
       "    </tr>\n",
       "    <tr>\n",
       "      <th>1</th>\n",
       "      <td>Good</td>\n",
       "      <td>1999.675676</td>\n",
       "    </tr>\n",
       "  </tbody>\n",
       "</table>\n",
       "</div>"
      ],
      "text/plain": [
       "  weather_conditions  duration_seconds\n",
       "0                Bad       2427.205556\n",
       "1               Good       1999.675676"
      ]
     },
     "execution_count": 21,
     "metadata": {},
     "output_type": "execute_result"
    }
   ],
   "source": [
    "# mempersiapkan perhitungan data varians\n",
    "# hitung rata-rata pada dataset\n",
    "avg_hypothesis = pd.pivot_table(hypothesis, index='weather_conditions',  values='duration_seconds', aggfunc='mean').reset_index()\n",
    "avg_hypothesis"
   ]
  },
  {
   "cell_type": "code",
   "execution_count": 22,
   "metadata": {},
   "outputs": [
    {
     "data": {
      "image/png": "[encoded data removed]",
      "text/plain": [
       "<Figure size 576x432 with 1 Axes>"
      ]
     },
     "metadata": {},
     "output_type": "display_data"
    }
   ],
   "source": [
    "# Data agregat (data asli)\n",
    "avg_hypothesis = pd.pivot_table(hypothesis, index='weather_conditions', values='duration_seconds', aggfunc='mean').reset_index()\n",
    "\n",
    "# Buat boxplot dengan Seaborn\n",
    "plt.figure(figsize=(8, 6))\n",
    "sns.boxplot(x='weather_conditions', y='duration_seconds', data=hypothesis, palette='viridis')\n",
    "\n",
    "# Tambahkan judul dan label sumbu\n",
    "plt.title(\"Boxplot Durasi Perjalanan berdasarkan Kondisi Cuaca\")\n",
    "plt.xlabel(\"Kondisi Cuaca\")\n",
    "plt.ylabel(\"Durasi Perjalanan (detik)\")\n",
    "\n",
    "plt.show()"
   ]
  },
  {
   "cell_type": "markdown",
   "metadata": {},
   "source": [
    "- <font color = 'green'> Kesimpulan Sementara </font>\n",
    "\n",
    "Terlihat bahwa nilai Good memiliki data yang condong ke kanan dab memilki banyak nilai outliers. Sedangkan nilai Bad berada di sekitar interquartile range yang mengindikasikan bahwa banyak data yang terdistribusi di dalam visualisasi boxplot tersebut."
   ]
  },
  {
   "cell_type": "code",
   "execution_count": 23,
   "metadata": {},
   "outputs": [],
   "source": [
    "# Melakukan penghapusan outliers\n",
    "Q1 = hypothesis['duration_seconds'].quantile(0.25)\n",
    "Q3 = hypothesis['duration_seconds'].quantile(0.75)\n",
    "IQR = Q3 - Q1\n",
    "\n",
    "lower_bound = Q1 - 1.5 * IQR\n",
    "upper_bound = Q3 + 1.5 * IQR\n",
    "\n",
    "# Hapus outliers\n",
    "hypothesis_no_outliers = hypothesis[(hypothesis['duration_seconds'] >= lower_bound) & (hypothesis['duration_seconds'] <= upper_bound)]\n"
   ]
  },
  {
   "cell_type": "code",
   "execution_count": 24,
   "metadata": {},
   "outputs": [
    {
     "data": {
      "text/html": [
       "<div>\n",
       "<style scoped>\n",
       "    .dataframe tbody tr th:only-of-type {\n",
       "        vertical-align: middle;\n",
       "    }\n",
       "\n",
       "    .dataframe tbody tr th {\n",
       "        vertical-align: top;\n",
       "    }\n",
       "\n",
       "    .dataframe thead th {\n",
       "        text-align: right;\n",
       "    }\n",
       "</style>\n",
       "<table border=\"1\" class=\"dataframe\">\n",
       "  <thead>\n",
       "    <tr style=\"text-align: right;\">\n",
       "      <th></th>\n",
       "      <th>weather_conditions</th>\n",
       "      <th>duration_seconds</th>\n",
       "    </tr>\n",
       "  </thead>\n",
       "  <tbody>\n",
       "    <tr>\n",
       "      <th>0</th>\n",
       "      <td>Bad</td>\n",
       "      <td>2412.944134</td>\n",
       "    </tr>\n",
       "    <tr>\n",
       "      <th>1</th>\n",
       "      <td>Good</td>\n",
       "      <td>1979.266138</td>\n",
       "    </tr>\n",
       "  </tbody>\n",
       "</table>\n",
       "</div>"
      ],
      "text/plain": [
       "  weather_conditions  duration_seconds\n",
       "0                Bad       2412.944134\n",
       "1               Good       1979.266138"
      ]
     },
     "execution_count": 24,
     "metadata": {},
     "output_type": "execute_result"
    }
   ],
   "source": [
    "# Agregasi tanpa outliers\n",
    "hypothesis_no_outliers_avg = pd.pivot_table(hypothesis_no_outliers, index='weather_conditions', values='duration_seconds', aggfunc='mean').reset_index()\n",
    "hypothesis_no_outliers_avg"
   ]
  },
  {
   "cell_type": "markdown",
   "metadata": {},
   "source": [
    "- Bisa kita lihat, perubahan data tidak begitu signifikan. Namun kita akan tetap lakukan dengan menggunakan data yang tidak ada outliers nya untuk menguji hypothesis."
   ]
  },
  {
   "cell_type": "code",
   "execution_count": 25,
   "metadata": {},
   "outputs": [
    {
     "data": {
      "image/png": "[encoded data removed]",
      "text/plain": [
       "<Figure size 576x432 with 1 Axes>"
      ]
     },
     "metadata": {},
     "output_type": "display_data"
    }
   ],
   "source": [
    "# Data agregat tanpa outliers\n",
    "hypothesis_no_outliers_avg = pd.pivot_table(hypothesis_no_outliers, index='weather_conditions', values='duration_seconds', aggfunc='mean').reset_index()\n",
    "# Buat boxplot dengan Seaborn\n",
    "plt.figure(figsize=(8, 6))\n",
    "sns.boxplot(x='weather_conditions', y='duration_seconds', data=hypothesis_no_outliers, palette='viridis', showfliers=False)\n",
    "\n",
    "# Tambahkan judul dan label sumbu\n",
    "plt.title(\"Boxplot Durasi Perjalanan berdasarkan Kondisi Cuaca\")\n",
    "plt.xlabel(\"Kondisi Cuaca\")\n",
    "plt.ylabel(\"Durasi Perjalanan (detik)\")\n",
    "\n",
    "plt.show()"
   ]
  },
  {
   "cell_type": "markdown",
   "metadata": {},
   "source": [
    "- Di sini kita akan menghapus outliers yang terdapat pada visualisasi boxplot yang sudah kita tampilkan. Hal ini bertujuan agar perhitungan uji testing hypothesis lebih akurat."
   ]
  },
  {
   "cell_type": "markdown",
   "metadata": {},
   "source": [
    "<font color = 'green'>Alpha yang ditentukan yaitu 5% atau 0.05</font>\n",
    "\n",
    "<font color='blue'>H0 = \"Durasi rata-rata perjalanan dari Loop ke Bandara Internasional O'Hare TIDAK BERUBAH saat hujan di hari Sabtu.\"</font>\n",
    "\n",
    "<font color='red'>H1 = \"Durasi rata-rata perjalanan dari Loop ke Bandara Internasional O'Hare BERUBAH saat hujan di hari Sabtu.\"</font>"
   ]
  },
  {
   "cell_type": "code",
   "execution_count": 35,
   "metadata": {},
   "outputs": [
    {
     "name": "stdout",
     "output_type": "stream",
     "text": [
      "Statistic: 0.24647542861629418\n",
      "P-Value (Levene): 0.6196707782686355\n",
      "Menerima H0\n"
     ]
    }
   ],
   "source": [
    "# Pisahkan data menjadi dua kelompok: \"Bad\" dan \"Good\"\n",
    "data_bad = hypothesis_no_outliers[hypothesis_no_outliers['weather_conditions'] == 'Bad']['duration_seconds']\n",
    "data_good = hypothesis_no_outliers[hypothesis_no_outliers['weather_conditions'] == 'Good']['duration_seconds']\n",
    "\n",
    "# Lakukan uji Levene\n",
    "statistic, p_value_levene = levene(data_bad, data_good)\n",
    "\n",
    "# Cetak hasil uji Levene\n",
    "print(\"Statistic:\", statistic)\n",
    "print(\"P-Value (Levene):\", p_value_levene)\n",
    "\n",
    "alpha = 0.05\n",
    "\n",
    "if p_value_levene < alpha:\n",
    "    print('Menerima H1')\n",
    "else:\n",
    "    print('Menerima H0')\n"
   ]
  },
  {
   "cell_type": "markdown",
   "metadata": {},
   "source": [
    "- Setelah itu kita akan melakukan ttest_ind dengan set parameter equal_var dr hasil levene test, jika varians sama maka set True, dan sebaliknya."
   ]
  },
  {
   "cell_type": "code",
   "execution_count": 36,
   "metadata": {},
   "outputs": [
    {
     "name": "stdout",
     "output_type": "stream",
     "text": [
      "Levene Statistic: 0.24647542861629418\n",
      "P-Value (Levene): 0.6196707782686355\n",
      "T-Statistic (Equal Variance): 7.5110122934882755\n",
      "P-Value (T-Test): 1.2430038032744411e-13\n",
      "Menerima H0: Durasi rata-rata perjalanan dari Loop ke Bandara Internasional O'Hare TIDAK BERUBAH saat hujan di hari Sabtu.\n"
     ]
    }
   ],
   "source": [
    "# Lakukan uji Levene\n",
    "statistic_levene, p_value_levene = stats.levene(data_bad, data_good)\n",
    "\n",
    "# Cetak hasil uji Levene\n",
    "print(\"Levene Statistic:\", statistic_levene)\n",
    "print(\"P-Value (Levene):\", p_value_levene)\n",
    "\n",
    "# Tentukan tingkat signifikansi (alpha) untuk uji t-test\n",
    "alpha = 0.05\n",
    "\n",
    "# Lakukan uji t-test independen dengan parameter equal_var yang disesuaikan\n",
    "if p_value_levene < alpha:\n",
    "    t_statistic, p_value_ttest = stats.ttest_ind(data_bad, data_good, equal_var=False)\n",
    "    print(\"T-Statistic (Unequal Variance):\", t_statistic)\n",
    "    print(\"P-Value (T-Test):\", p_value_ttest)\n",
    "    print(\"Menerima H1: Durasi rata-rata perjalanan dari Loop ke Bandara Internasional O'Hare BERUBAH saat hujan di hari Sabtu.\")\n",
    "else:\n",
    "    t_statistic, p_value_ttest = stats.ttest_ind(data_bad, data_good, equal_var=True)\n",
    "    print(\"T-Statistic (Equal Variance):\", t_statistic)\n",
    "    print(\"P-Value (T-Test):\", p_value_ttest)\n",
    "    print(\"Menerima H0: Durasi rata-rata perjalanan dari Loop ke Bandara Internasional O'Hare TIDAK BERUBAH saat hujan di hari Sabtu.\")\n"
   ]
  },
  {
   "cell_type": "markdown",
   "metadata": {},
   "source": [
    "- <font color = 'green'>Kesimpulan Sementara</font>\n",
    "\n",
    "Hypothesis menerima H0"
   ]
  },
  {
   "cell_type": "markdown",
   "metadata": {},
   "source": [
    "---------"
   ]
  },
  {
   "cell_type": "markdown",
   "metadata": {},
   "source": [
    "## Kesimpulan Umum"
   ]
  },
  {
   "cell_type": "markdown",
   "metadata": {},
   "source": [
    "- Untuk saat ini tidak ditemukan nilai yang kosong. Seluruh data benar-benar utuh.\n",
    "- Tipe data bisa saja sudah sesuai. Kita harus analisa lebih lanjut.\n",
    "- Jumlah Perjalanan pada tanggal 15-16 November 2017 di 10 teratas adalah:\n",
    "  1. Flash Cab\n",
    "  2. Taxi Affiliation Services\n",
    "  3. Medallion Leasing\n",
    "  4. Yellow Cab\n",
    "  5. Taxi Affiliation Service Yellow\n",
    "  6. Chicago Carriage Cab Corp\n",
    "  7. City Service\n",
    "  8. Sun Taxi\n",
    "  9. Star North Management LLC\n",
    "  10. Blue Ribbon Taxi Association Inc.\n",
    "- Rata-Rata Perjalanan yang Berakhir di Setiap Wilayah pada Bulan November 2017 adalah:\n",
    "    1. Loop\n",
    "    2. River North\n",
    "    3. Streeterville\n",
    "    4. West Loop\n",
    "    5. O'Hare\n",
    "    6. Lake View\n",
    "    7. Grant Park\n",
    "    8. Museum Campus\n",
    "    9. Gold Coast\n",
    "    10. Sheffield & Depaul\n",
    "- Terlihat bahwa nilai Good memiliki data yang condong ke kanan dan memilki banyak nilai outliers. Sedangkan nilai Bad berada di sekitar interquartile range yang mengindikasikan bahwa banyak data yang terdistribusi di dalam visualisasi boxplot tersebut.\n",
    "- Hypothesis menerima H0"
   ]
  },
  {
   "cell_type": "code",
   "execution_count": null,
   "metadata": {},
   "outputs": [],
   "source": []
  }
 ],
 "metadata": {
  "kernelspec": {
   "display_name": "Python 3 (ipykernel)",
   "language": "python",
   "name": "python3"
  },
  "language_info": {
   "codemirror_mode": {
    "name": "ipython",
    "version": 3
   },
   "file_extension": ".py",
   "mimetype": "text/x-python",
   "name": "python",
   "nbconvert_exporter": "python",
   "pygments_lexer": "ipython3",
   "version": "3.10.9"
  },
  "toc": {
   "base_numbering": 1,
   "nav_menu": {},
   "number_sections": true,
   "sideBar": true,
   "skip_h1_title": false,
   "title_cell": "Table of Contents",
   "title_sidebar": "Contents",
   "toc_cell": false,
   "toc_position": {
    "height": "calc(100% - 180px)",
    "left": "10px",
    "top": "150px",
    "width": "333.082px"
   },
   "toc_section_display": true,
   "toc_window_display": true
  }
 },
 "nbformat": 4,
 "nbformat_minor": 2
}
